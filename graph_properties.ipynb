{
 "cells": [
  {
   "cell_type": "code",
   "execution_count": 1,
   "id": "8e7122a9",
   "metadata": {},
   "outputs": [],
   "source": [
    "import pandas as pd"
   ]
  },
  {
   "cell_type": "code",
   "execution_count": 2,
   "id": "085e023b",
   "metadata": {},
   "outputs": [
    {
     "data": {
      "text/html": [
       "<div>\n",
       "<style scoped>\n",
       "    .dataframe tbody tr th:only-of-type {\n",
       "        vertical-align: middle;\n",
       "    }\n",
       "\n",
       "    .dataframe tbody tr th {\n",
       "        vertical-align: top;\n",
       "    }\n",
       "\n",
       "    .dataframe thead th {\n",
       "        text-align: right;\n",
       "    }\n",
       "</style>\n",
       "<table border=\"1\" class=\"dataframe\">\n",
       "  <thead>\n",
       "    <tr style=\"text-align: right;\">\n",
       "      <th></th>\n",
       "      <th>name</th>\n",
       "      <th>centrality</th>\n",
       "      <th>pagerank</th>\n",
       "    </tr>\n",
       "  </thead>\n",
       "  <tbody>\n",
       "    <tr>\n",
       "      <th>0</th>\n",
       "      <td>Romeo</td>\n",
       "      <td>3.112021e-01</td>\n",
       "      <td>0.122075</td>\n",
       "    </tr>\n",
       "    <tr>\n",
       "      <th>1</th>\n",
       "      <td>Juliet</td>\n",
       "      <td>6.689666e-02</td>\n",
       "      <td>0.012021</td>\n",
       "    </tr>\n",
       "    <tr>\n",
       "      <th>2</th>\n",
       "      <td>Lord Montague</td>\n",
       "      <td>5.089427e-02</td>\n",
       "      <td>0.031269</td>\n",
       "    </tr>\n",
       "    <tr>\n",
       "      <th>3</th>\n",
       "      <td>Lady Montague</td>\n",
       "      <td>2.895814e-02</td>\n",
       "      <td>0.019513</td>\n",
       "    </tr>\n",
       "    <tr>\n",
       "      <th>4</th>\n",
       "      <td>Benvolio</td>\n",
       "      <td>2.907141e-01</td>\n",
       "      <td>0.078639</td>\n",
       "    </tr>\n",
       "    <tr>\n",
       "      <th>5</th>\n",
       "      <td>Lord Capulet</td>\n",
       "      <td>1.342393e-01</td>\n",
       "      <td>0.050817</td>\n",
       "    </tr>\n",
       "    <tr>\n",
       "      <th>6</th>\n",
       "      <td>Lady Capulet</td>\n",
       "      <td>2.389972e-01</td>\n",
       "      <td>0.064688</td>\n",
       "    </tr>\n",
       "    <tr>\n",
       "      <th>7</th>\n",
       "      <td>Tybalt</td>\n",
       "      <td>1.796519e-01</td>\n",
       "      <td>0.027085</td>\n",
       "    </tr>\n",
       "    <tr>\n",
       "      <th>8</th>\n",
       "      <td>Prince Escalus</td>\n",
       "      <td>2.037987e-01</td>\n",
       "      <td>0.040632</td>\n",
       "    </tr>\n",
       "    <tr>\n",
       "      <th>9</th>\n",
       "      <td>Paris</td>\n",
       "      <td>2.220422e-01</td>\n",
       "      <td>0.043682</td>\n",
       "    </tr>\n",
       "    <tr>\n",
       "      <th>10</th>\n",
       "      <td>Mercutio</td>\n",
       "      <td>1.928263e-01</td>\n",
       "      <td>0.017206</td>\n",
       "    </tr>\n",
       "    <tr>\n",
       "      <th>11</th>\n",
       "      <td>Nurse</td>\n",
       "      <td>4.716081e-03</td>\n",
       "      <td>0.007363</td>\n",
       "    </tr>\n",
       "    <tr>\n",
       "      <th>12</th>\n",
       "      <td>Peter</td>\n",
       "      <td>6.401050e-02</td>\n",
       "      <td>0.018803</td>\n",
       "    </tr>\n",
       "    <tr>\n",
       "      <th>13</th>\n",
       "      <td>Balthasar</td>\n",
       "      <td>3.094533e-02</td>\n",
       "      <td>0.021022</td>\n",
       "    </tr>\n",
       "    <tr>\n",
       "      <th>14</th>\n",
       "      <td>Abram</td>\n",
       "      <td>2.895814e-02</td>\n",
       "      <td>0.012868</td>\n",
       "    </tr>\n",
       "    <tr>\n",
       "      <th>15</th>\n",
       "      <td>Gregory</td>\n",
       "      <td>2.872217e-01</td>\n",
       "      <td>0.044891</td>\n",
       "    </tr>\n",
       "    <tr>\n",
       "      <th>16</th>\n",
       "      <td>Sampson</td>\n",
       "      <td>1.265220e-01</td>\n",
       "      <td>0.008521</td>\n",
       "    </tr>\n",
       "    <tr>\n",
       "      <th>17</th>\n",
       "      <td>Page</td>\n",
       "      <td>1.635921e-02</td>\n",
       "      <td>0.006440</td>\n",
       "    </tr>\n",
       "    <tr>\n",
       "      <th>18</th>\n",
       "      <td>Friar Lawrence</td>\n",
       "      <td>2.800909e-02</td>\n",
       "      <td>0.013775</td>\n",
       "    </tr>\n",
       "    <tr>\n",
       "      <th>19</th>\n",
       "      <td>Friar John</td>\n",
       "      <td>2.063654e-03</td>\n",
       "      <td>0.008070</td>\n",
       "    </tr>\n",
       "    <tr>\n",
       "      <th>20</th>\n",
       "      <td>Apothacary</td>\n",
       "      <td>2.785703e-02</td>\n",
       "      <td>0.008328</td>\n",
       "    </tr>\n",
       "    <tr>\n",
       "      <th>21</th>\n",
       "      <td>Rosaline</td>\n",
       "      <td>2.872217e-01</td>\n",
       "      <td>0.017971</td>\n",
       "    </tr>\n",
       "    <tr>\n",
       "      <th>22</th>\n",
       "      <td>Queen Mab</td>\n",
       "      <td>2.292828e-02</td>\n",
       "      <td>0.010520</td>\n",
       "    </tr>\n",
       "    <tr>\n",
       "      <th>23</th>\n",
       "      <td>Old Capulet</td>\n",
       "      <td>4.073474e-02</td>\n",
       "      <td>0.018015</td>\n",
       "    </tr>\n",
       "    <tr>\n",
       "      <th>24</th>\n",
       "      <td>Anthony</td>\n",
       "      <td>2.490995e-01</td>\n",
       "      <td>0.034946</td>\n",
       "    </tr>\n",
       "    <tr>\n",
       "      <th>25</th>\n",
       "      <td>Potpan</td>\n",
       "      <td>1.711324e-01</td>\n",
       "      <td>0.023696</td>\n",
       "    </tr>\n",
       "    <tr>\n",
       "      <th>26</th>\n",
       "      <td>Servant 1</td>\n",
       "      <td>2.064496e-01</td>\n",
       "      <td>0.024941</td>\n",
       "    </tr>\n",
       "    <tr>\n",
       "      <th>27</th>\n",
       "      <td>Servant 2</td>\n",
       "      <td>2.082449e-01</td>\n",
       "      <td>0.025068</td>\n",
       "    </tr>\n",
       "    <tr>\n",
       "      <th>28</th>\n",
       "      <td>Ghost Petruchio</td>\n",
       "      <td>2.090533e-01</td>\n",
       "      <td>0.024515</td>\n",
       "    </tr>\n",
       "    <tr>\n",
       "      <th>29</th>\n",
       "      <td>Valentine</td>\n",
       "      <td>1.501509e-02</td>\n",
       "      <td>0.007237</td>\n",
       "    </tr>\n",
       "    <tr>\n",
       "      <th>30</th>\n",
       "      <td>Watchmen 1</td>\n",
       "      <td>6.748296e-10</td>\n",
       "      <td>0.040533</td>\n",
       "    </tr>\n",
       "    <tr>\n",
       "      <th>31</th>\n",
       "      <td>Watchmen 2</td>\n",
       "      <td>4.771766e-10</td>\n",
       "      <td>0.030017</td>\n",
       "    </tr>\n",
       "    <tr>\n",
       "      <th>32</th>\n",
       "      <td>Watchmen 3</td>\n",
       "      <td>4.771766e-10</td>\n",
       "      <td>0.012783</td>\n",
       "    </tr>\n",
       "    <tr>\n",
       "      <th>33</th>\n",
       "      <td>Musician 1</td>\n",
       "      <td>2.918122e-01</td>\n",
       "      <td>0.040534</td>\n",
       "    </tr>\n",
       "    <tr>\n",
       "      <th>34</th>\n",
       "      <td>Musician 2</td>\n",
       "      <td>1.265220e-01</td>\n",
       "      <td>0.016998</td>\n",
       "    </tr>\n",
       "    <tr>\n",
       "      <th>35</th>\n",
       "      <td>Musician 3</td>\n",
       "      <td>2.489028e-01</td>\n",
       "      <td>0.014518</td>\n",
       "    </tr>\n",
       "  </tbody>\n",
       "</table>\n",
       "</div>"
      ],
      "text/plain": [
       "               name    centrality  pagerank\n",
       "0             Romeo  3.112021e-01  0.122075\n",
       "1            Juliet  6.689666e-02  0.012021\n",
       "2     Lord Montague  5.089427e-02  0.031269\n",
       "3     Lady Montague  2.895814e-02  0.019513\n",
       "4          Benvolio  2.907141e-01  0.078639\n",
       "5      Lord Capulet  1.342393e-01  0.050817\n",
       "6      Lady Capulet  2.389972e-01  0.064688\n",
       "7            Tybalt  1.796519e-01  0.027085\n",
       "8    Prince Escalus  2.037987e-01  0.040632\n",
       "9             Paris  2.220422e-01  0.043682\n",
       "10         Mercutio  1.928263e-01  0.017206\n",
       "11            Nurse  4.716081e-03  0.007363\n",
       "12            Peter  6.401050e-02  0.018803\n",
       "13        Balthasar  3.094533e-02  0.021022\n",
       "14            Abram  2.895814e-02  0.012868\n",
       "15          Gregory  2.872217e-01  0.044891\n",
       "16          Sampson  1.265220e-01  0.008521\n",
       "17             Page  1.635921e-02  0.006440\n",
       "18   Friar Lawrence  2.800909e-02  0.013775\n",
       "19       Friar John  2.063654e-03  0.008070\n",
       "20       Apothacary  2.785703e-02  0.008328\n",
       "21         Rosaline  2.872217e-01  0.017971\n",
       "22        Queen Mab  2.292828e-02  0.010520\n",
       "23      Old Capulet  4.073474e-02  0.018015\n",
       "24          Anthony  2.490995e-01  0.034946\n",
       "25           Potpan  1.711324e-01  0.023696\n",
       "26        Servant 1  2.064496e-01  0.024941\n",
       "27        Servant 2  2.082449e-01  0.025068\n",
       "28  Ghost Petruchio  2.090533e-01  0.024515\n",
       "29        Valentine  1.501509e-02  0.007237\n",
       "30       Watchmen 1  6.748296e-10  0.040533\n",
       "31       Watchmen 2  4.771766e-10  0.030017\n",
       "32       Watchmen 3  4.771766e-10  0.012783\n",
       "33       Musician 1  2.918122e-01  0.040534\n",
       "34       Musician 2  1.265220e-01  0.016998\n",
       "35       Musician 3  2.489028e-01  0.014518"
      ]
     },
     "execution_count": 2,
     "metadata": {},
     "output_type": "execute_result"
    }
   ],
   "source": [
    "df = pd.read_csv(\"verona.csv\", index_col=0)\n",
    "df"
   ]
  },
  {
   "cell_type": "code",
   "execution_count": 3,
   "id": "0c1a86c7",
   "metadata": {},
   "outputs": [],
   "source": [
    "import seaborn as sns"
   ]
  },
  {
   "cell_type": "code",
   "execution_count": 9,
   "id": "7949403e",
   "metadata": {},
   "outputs": [
    {
     "name": "stderr",
     "output_type": "stream",
     "text": [
      "/home/petra/miniconda3/envs/core_agents/lib/python3.11/site-packages/seaborn/_oldcore.py:1498: FutureWarning: is_categorical_dtype is deprecated and will be removed in a future version. Use isinstance(dtype, CategoricalDtype) instead\n",
      "  if pd.api.types.is_categorical_dtype(vector):\n",
      "/home/petra/miniconda3/envs/core_agents/lib/python3.11/site-packages/seaborn/_oldcore.py:1498: FutureWarning: is_categorical_dtype is deprecated and will be removed in a future version. Use isinstance(dtype, CategoricalDtype) instead\n",
      "  if pd.api.types.is_categorical_dtype(vector):\n",
      "/home/petra/miniconda3/envs/core_agents/lib/python3.11/site-packages/seaborn/_oldcore.py:1498: FutureWarning: is_categorical_dtype is deprecated and will be removed in a future version. Use isinstance(dtype, CategoricalDtype) instead\n",
      "  if pd.api.types.is_categorical_dtype(vector):\n"
     ]
    },
    {
     "data": {
      "text/plain": [
       "<Axes: xlabel='centrality', ylabel='name'>"
      ]
     },
     "execution_count": 9,
     "metadata": {},
     "output_type": "execute_result"
    },
    {
     "data": {
      "image/png": "[encoded data removed]",
      "text/plain": [
       "<Figure size 640x480 with 1 Axes>"
      ]
     },
     "metadata": {},
     "output_type": "display_data"
    }
   ],
   "source": [
    "sns.barplot(data=df, y=\"name\", x=\"centrality\")"
   ]
  },
  {
   "cell_type": "code",
   "execution_count": 5,
   "id": "f235a548",
   "metadata": {},
   "outputs": [
    {
     "name": "stdout",
     "output_type": "stream",
     "text": [
      "Graph with 37 nodes and 148 edges\n"
     ]
    }
   ],
   "source": [
    "from graph import Graph\n",
    "\n",
    "g = Graph(\"data/verona/raj-social-edges.csv\")\n",
    "G = g.to_nx_graph()\n",
    "G.add_node(0)\n",
    "print(G)\n"
   ]
  },
  {
   "cell_type": "code",
   "execution_count": 6,
   "id": "e43888fe",
   "metadata": {},
   "outputs": [],
   "source": [
    "import networkx as nx\n",
    "\n",
    "hist = nx.degree_histogram(G)\n"
   ]
  },
  {
   "cell_type": "code",
   "execution_count": 7,
   "id": "fcbd0671",
   "metadata": {},
   "outputs": [
    {
     "name": "stderr",
     "output_type": "stream",
     "text": [
      "/home/petra/miniconda3/envs/core_agents/lib/python3.11/site-packages/seaborn/_oldcore.py:1498: FutureWarning: is_categorical_dtype is deprecated and will be removed in a future version. Use isinstance(dtype, CategoricalDtype) instead\n",
      "  if pd.api.types.is_categorical_dtype(vector):\n",
      "/home/petra/miniconda3/envs/core_agents/lib/python3.11/site-packages/seaborn/_oldcore.py:1498: FutureWarning: is_categorical_dtype is deprecated and will be removed in a future version. Use isinstance(dtype, CategoricalDtype) instead\n",
      "  if pd.api.types.is_categorical_dtype(vector):\n",
      "/home/petra/miniconda3/envs/core_agents/lib/python3.11/site-packages/seaborn/_oldcore.py:1765: FutureWarning: unique with argument that is not not a Series, Index, ExtensionArray, or np.ndarray is deprecated and will raise in a future version.\n",
      "  order = pd.unique(vector)\n",
      "/home/petra/miniconda3/envs/core_agents/lib/python3.11/site-packages/seaborn/_oldcore.py:1498: FutureWarning: is_categorical_dtype is deprecated and will be removed in a future version. Use isinstance(dtype, CategoricalDtype) instead\n",
      "  if pd.api.types.is_categorical_dtype(vector):\n"
     ]
    },
    {
     "data": {
      "text/plain": [
       "Text(0.5, 1.0, 'Nodes degree histogram')"
      ]
     },
     "execution_count": 7,
     "metadata": {},
     "output_type": "execute_result"
    },
    {
     "data": {
      "image/png": "[encoded data removed]",
      "text/plain": [
       "<Figure size 640x480 with 1 Axes>"
      ]
     },
     "metadata": {},
     "output_type": "display_data"
    }
   ],
   "source": [
    "ax = sns.barplot(x=list(range(len(hist))), y=hist, color=\"blue\")\n",
    "ax.set_title(\"Nodes degree histogram\")"
   ]
  },
  {
   "cell_type": "code",
   "execution_count": 8,
   "id": "d2a1e681",
   "metadata": {},
   "outputs": [
    {
     "name": "stdout",
     "output_type": "stream",
     "text": [
      "296\n"
     ]
    }
   ],
   "source": [
    "sum = 0\n",
    "for x, y in zip(range(len(hist)), hist):\n",
    "    sum += x*y\n",
    "print(sum)\n",
    "    "
   ]
  },
  {
   "cell_type": "code",
   "execution_count": null,
   "id": "b44da9ff",
   "metadata": {},
   "outputs": [],
   "source": []
  }
 ],
 "metadata": {
  "kernelspec": {
   "display_name": "Python 3 (ipykernel)",
   "language": "python",
   "name": "python3"
  },
  "language_info": {
   "codemirror_mode": {
    "name": "ipython",
    "version": 3
   },
   "file_extension": ".py",
   "mimetype": "text/x-python",
   "name": "python",
   "nbconvert_exporter": "python",
   "pygments_lexer": "ipython3",
   "version": "3.11.5"
  }
 },
 "nbformat": 4,
 "nbformat_minor": 5
}
